{
 "cells": [
  {
   "cell_type": "markdown",
   "metadata": {},
   "source": [
    "# UNIVERSIDAD GERARDO BARRIOS.\n",
    "\n",
    "## LABORATORIO 2 TERCER COMPUTO.\n",
    "\n",
    "### ESTUDIANTE:\n",
    "\n",
    "    # SALVADOR ALEXANDER MARTINEZ AZUCAR\n",
    "     "
   ]
  },
  {
   "cell_type": "markdown",
   "metadata": {},
   "source": [
    "### Desarrollar  una aplicacion en Python que permita validar lo siguiente:"
   ]
  },
  {
   "cell_type": "markdown",
   "metadata": {},
   "source": [
    "### El lenguaje generado por la definición de variables usando la siguiente sintaxis:\n",
    "\n",
    "### type ident = value;"
   ]
  },
  {
   "cell_type": "code",
   "execution_count": 50,
   "metadata": {
    "scrolled": true
   },
   "outputs": [
    {
     "name": "stdout",
     "output_type": "stream",
     "text": [
      "+-------------------------------------------------+\n",
      "|              cadena a evaluar:                  |\n",
      "+-------------------------------------------------+ \n",
      "| La cadena es: string ident = csasda; es válida\n",
      "+--------------+------------------+---------------+\n"
     ]
    }
   ],
   "source": [
    "\n",
    "#Importar librerías\n",
    "import re\n",
    "#Expresión regular!\n",
    "cadenavalidad = '^((\\w*int|float|varchar|string)\\s(\\w*)\\s(\\=)\\s([0-9]|[a-z]+)(\\;))' \n",
    "\n",
    "\n",
    "def encabezado():\n",
    "    print(\"\"\"|                                              |\"\"\")\n",
    "    body() \n",
    "          \n",
    "print(\"\"\"+-------------------------------------------------+\n",
    "|              cadena a evaluar:                  |\n",
    "+-------------------------------------------------+ \"\"\")\n",
    "\n",
    "\n",
    "cadena = ['string ident = csasda;']\n",
    "\n",
    "for validar in cadena:\n",
    "    if (re.match(cadenavalidad,validar)):\n",
    "        print('| La cadena es: ' +validar+' es válida')\n",
    "    else:\n",
    "        print('| La cadena es: ' +validar+ ' no es válida            ')\n",
    "        \n",
    "\n",
    "body()\n",
    "def body():\n",
    "    print(\"+--------------+------------------+---------------+\")\n",
    "    "
   ]
  },
  {
   "cell_type": "code",
   "execution_count": 51,
   "metadata": {},
   "outputs": [
    {
     "name": "stdout",
     "output_type": "stream",
     "text": [
      "+-------------------------------------+\n",
      "|    Ingrese una cadena a evaluar:    |\n",
      "+-------------------------------------+\n",
      "string ident = csasda;\n",
      "+-------------------------------------------------+\n",
      "|              cadena introducida:                |\n",
      "+-------------------------------------------------+ \n",
      "| La cadena es: s no es válida            \n",
      "| La cadena es: t no es válida            \n",
      "| La cadena es: r no es válida            \n",
      "| La cadena es: i no es válida            \n",
      "| La cadena es: n no es válida            \n",
      "| La cadena es: g no es válida            \n",
      "| La cadena es:   no es válida            \n",
      "| La cadena es: i no es válida            \n",
      "| La cadena es: d no es válida            \n",
      "| La cadena es: e no es válida            \n",
      "| La cadena es: n no es válida            \n",
      "| La cadena es: t no es válida            \n",
      "| La cadena es:   no es válida            \n",
      "| La cadena es: = no es válida            \n",
      "| La cadena es:   no es válida            \n",
      "| La cadena es: c no es válida            \n",
      "| La cadena es: s no es válida            \n",
      "| La cadena es: a no es válida            \n",
      "| La cadena es: s no es válida            \n",
      "| La cadena es: d no es válida            \n",
      "| La cadena es: a no es válida            \n",
      "| La cadena es: ; no es válida            \n",
      "+--------------+------------------+---------------+\n"
     ]
    }
   ],
   "source": [
    "print (\"\"\"+-------------------------------------+\n",
    "|    Ingrese una cadena a evaluar:    |\n",
    "+-------------------------------------+\"\"\")\n",
    "cadena1 = input()\n",
    "\n",
    "print (\"\"\"+-------------------------------------------------+\n",
    "|              cadena introducida:                |\n",
    "+-------------------------------------------------+ \"\"\")        \n",
    "        \n",
    "for validar1 in cadena1:\n",
    "    if (re.match(cadenavalidad,validar1)):\n",
    "        print('| La cadena es: ' +validar1+' es válida')\n",
    "    else:\n",
    "        print('| La cadena es: ' +validar1+ ' no es válida            ')\n",
    "body()\n",
    "def body():\n",
    "    print(\"+--------------+------------------+---------------+\")"
   ]
  },
  {
   "cell_type": "code",
   "execution_count": null,
   "metadata": {},
   "outputs": [],
   "source": []
  }
 ],
 "metadata": {
  "kernelspec": {
   "display_name": "Python 3",
   "language": "python",
   "name": "python3"
  },
  "language_info": {
   "codemirror_mode": {
    "name": "ipython",
    "version": 3
   },
   "file_extension": ".py",
   "mimetype": "text/x-python",
   "name": "python",
   "nbconvert_exporter": "python",
   "pygments_lexer": "ipython3",
   "version": "3.7.3"
  }
 },
 "nbformat": 4,
 "nbformat_minor": 2
}
