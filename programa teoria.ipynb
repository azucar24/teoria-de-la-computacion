{
 "cells": [
  {
   "cell_type": "markdown",
   "metadata": {},
   "source": [
    "# PROGRAMA El lenguaje generado por la definicion de variables usando la siguiente sintaxis:\n",
    "type ident = value;\n"
   ]
  },
  {
   "cell_type": "markdown",
   "metadata": {},
   "source": [
    "ER = a*b*c*"
   ]
  },
  {
   "cell_type": "code",
   "execution_count": null,
   "metadata": {},
   "outputs": [],
   "source": []
  },
  {
   "cell_type": "code",
   "execution_count": 2,
   "metadata": {},
   "outputs": [
    {
     "name": "stdout",
     "output_type": "stream",
     "text": [
      "+-------------------------------------+\n",
      "|    Ingrese una cadena a evaluar:    |\n",
      "+-------------------------------------+\n",
      "aaabbbcc\n",
      "+--------------+---------+-----------+---------------+\n",
      "|  Edo. Actual |Caracter |  Simbolo  |Edo. Siguiente |\n",
      "+--------------+---------+-----------+---------------+\n",
      "|      0       |   a     |   A       |      1        |\n",
      "+--------------+---------+-----------+---------------+\n",
      "|      1       |   a     |   A       |      3        |\n",
      "+--------------+---------+-----------+---------------+\n",
      "|      3       |   a     |   A       |      3        |\n",
      "+--------------+---------+-----------+---------------+\n",
      "|      3       |   b     |   B       |      3        |\n",
      "+--------------+---------+-----------+---------------+\n",
      "|      3       |   b     |   B       |      3        |\n",
      "+--------------+---------+-----------+---------------+\n",
      "|      3       |   b     |   B       |      3        |\n",
      "+--------------+---------+-----------+---------------+\n",
      "|      3       |   c     |   C       |      3        |\n",
      "+--------------+---------+-----------+---------------+\n",
      "|      3       |   c     |   C       |      3        |\n",
      "+--------------+---------+-----------+---------------+\n",
      "+--------------+---------+-----------+---------------+\n",
      "|              Cadena No Valida :(                   |\n",
      "+----------------------------------------------------+\n"
     ]
    }
   ],
   "source": [
    "# llamamos a la libreria \"regular expresions\"\n",
    "import re \n",
    "import string\n",
    "\n",
    "#Definimos funcion caracter \n",
    "def caracter(character):\n",
    "    global simbolo\n",
    "    simbolo=\"\"\n",
    "    global Fin\n",
    "    Fin=\"\"\n",
    "    a=\"a\"\n",
    "    b=\"b\"\n",
    "    c=\"c\"\n",
    "\n",
    "    #comparamos si es a o no\n",
    "    if(re.match(a,character)):\n",
    "        simbolo=\"  A  \"\n",
    "        return 0\n",
    "    else:#comparamos si es b o no\n",
    "        if(re.match(b,character)):\n",
    "            simbolo=\"  B  \"\n",
    "            return 1\n",
    "        else:#comparamos si es c o no\n",
    "            if(re.match(c,character)):\n",
    "                simbolo=\"  C  \"\n",
    "                return 2\n",
    "            else:\n",
    "                if(character==Fin):\n",
    "                    return 3\n",
    "\n",
    "        #si no es a,b,c entonces no entra\n",
    "        print(\"Error el \",character,\"no es valido\")\n",
    "        exit()\n",
    "\n",
    "#definimos al la funcion  encabezado\n",
    "def encabezado():\n",
    "    print(\"\"\"|  Edo. Actual |Caracter |  Simbolo  |Edo. Siguiente |\"\"\")\n",
    "    body() \n",
    " \n",
    "#definimos la funcion contenido donde guarda cada valor despues de encontrarlo en un ciclo\n",
    "def contenido(estadosig,character,simbolo,estado):\n",
    "    print(\"|     \",estadosig,\"      |  \",character,\"    |\",simbolo,\"    |     \",estado,\"       |\")\n",
    "    body()\n",
    " \n",
    "#solo muestra la linea que se repetira cada vez que la mandemos a llamar\n",
    "def body():\n",
    "    print(\"+--------------+---------+-----------+---------------+\")\n",
    "#MAIN\n",
    "#Este es la tabla de transiciones del automata AFD creado\n",
    "tabla=[\n",
    "[1,5,3],\n",
    "[3,2,7],\n",
    "[4,1,7],\n",
    "[3,3,3],\n",
    "[4,4,4],\n",
    "[6,3,8],\n",
    "[5,4,8],\n",
    "[7,7,7],\n",
    "[8,8,8]]\n",
    "estado = 0\n",
    "\n",
    "print (\"\"\"+-------------------------------------+\n",
    "|    Ingrese una cadena a evaluar:    |\n",
    "+-------------------------------------+\"\"\")\n",
    "cadena = input()\n",
    "body()\n",
    "encabezado()\n",
    "\n",
    "#ciclo para recorrer la cadena\n",
    "for  character in cadena:\n",
    "\n",
    "    estadosig=estado\n",
    "\n",
    "    #llamamos al metodo para saber si es un caracter valido y el valor retornado se guarda en charcaracter\n",
    "    charcaracter= caracter(character)\n",
    "\n",
    "    #guardamos en estado el valor obtenido en la tabla segun las cordenadas que recibio anteriormente\n",
    "    estado=tabla[estado][charcaracter]\n",
    "\n",
    "    #Si el valor obtenido es una E imprimimos cadena no valida\n",
    "\n",
    "    contenido(estadosig,character,simbolo,estado)\n",
    "\n",
    "#al concluir si el estado no es 3 que es el de aceptacion imprimimos cadena no valida    \n",
    "if(estado<7):\n",
    "        body()\n",
    "        print(\"\"\"|              Cadena No Valida :(                   |\n",
    "+----------------------------------------------------+\"\"\")\n",
    "\n",
    "#si el estado es 3 es una cadena de aceptacion\n",
    "if(estado>=7):\n",
    "    print(\"|     \",estado,\"      |         |  FND      |               |\")\n",
    "    body()\n",
    "    print(\"\"\"|                Cadena Valida :)                    |\n",
    "+----------------------------------------------------+\"\"\")"
   ]
  },
  {
   "cell_type": "code",
   "execution_count": null,
   "metadata": {},
   "outputs": [],
   "source": []
  },
  {
   "cell_type": "code",
   "execution_count": null,
   "metadata": {},
   "outputs": [],
   "source": [
    "\n"
   ]
  },
  {
   "cell_type": "code",
   "execution_count": null,
   "metadata": {},
   "outputs": [],
   "source": []
  }
 ],
 "metadata": {
  "kernelspec": {
   "display_name": "Python 3",
   "language": "python",
   "name": "python3"
  },
  "language_info": {
   "codemirror_mode": {
    "name": "ipython",
    "version": 3
   },
   "file_extension": ".py",
   "mimetype": "text/x-python",
   "name": "python",
   "nbconvert_exporter": "python",
   "pygments_lexer": "ipython3",
   "version": "3.7.3"
  }
 },
 "nbformat": 4,
 "nbformat_minor": 2
}
