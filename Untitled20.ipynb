{
 "cells": [
  {
   "cell_type": "code",
   "execution_count": 1,
   "metadata": {},
   "outputs": [
    {
     "name": "stdout",
     "output_type": "stream",
     "text": [
      "+-------------------------------------+\n",
      "|    Ingrese una cadena a evaluar:    |\n",
      "+-------------------------------------+ \n",
      "aaabbac\n",
      "+-----------+\n",
      "True\n",
      "+-----------+\n"
     ]
    }
   ],
   "source": [
    "##(\\w*int|float|varchar|string)\\s(\\w*)\\s(\\=)\\s(a)+(b)+(a)+(c)(\\;)\n",
    "\n",
    "edges={                 \n",
    "       (1,'a'):2,\n",
    "       (2,'a'):2,\n",
    "       (2,'b'):3,\n",
    "       (3,'b'):3,\n",
    "       (3,'a'):4,\n",
    "       (4,'c'):5}\n",
    "\n",
    "def body():\n",
    "    print(\"+-----------+\")\n",
    "    \n",
    "CadenaValida=[5]  #estado de aceptacion\n",
    "def fsmsim(string, current, edges, CadenaValida):#creamos la funcion\n",
    "    if string == \"\":#cuando no encuentra nada\n",
    "        return current in CadenaValida # valida si es correcta la cadena de caracteres\n",
    "    else:\n",
    "        letter= string[0] \n",
    "        if(current,letter)in edges: # compara (estado,letra) s\n",
    "            destination=edges[(current,letter)]#si es asi destination tendra el nuevo valor estado\n",
    "            remaining_string=string[1:]\n",
    "            return fsmsim(remaining_string,destination,edges,CadenaValida)\n",
    "        else:\n",
    "            return False #si no es asi retorna falso si no es valida la cadena de caracteres\n",
    "\n",
    "print (\"\"\"+-------------------------------------+\n",
    "|    Ingrese una cadena a evaluar:    |\n",
    "+-------------------------------------+ \"\"\")\n",
    "cadena = input()\n",
    "body()\n",
    "        \n",
    "print(fsmsim(cadena,1,edges,CadenaValida))#ingresar cadena de caracteres a validar\n",
    "body()"
   ]
  },
  {
   "cell_type": "code",
   "execution_count": null,
   "metadata": {},
   "outputs": [],
   "source": []
  },
  {
   "cell_type": "code",
   "execution_count": null,
   "metadata": {},
   "outputs": [],
   "source": []
  },
  {
   "cell_type": "code",
   "execution_count": null,
   "metadata": {},
   "outputs": [],
   "source": []
  },
  {
   "cell_type": "code",
   "execution_count": null,
   "metadata": {},
   "outputs": [],
   "source": []
  },
  {
   "cell_type": "code",
   "execution_count": null,
   "metadata": {},
   "outputs": [],
   "source": []
  },
  {
   "cell_type": "code",
   "execution_count": null,
   "metadata": {},
   "outputs": [],
   "source": []
  }
 ],
 "metadata": {
  "kernelspec": {
   "display_name": "Python 3",
   "language": "python",
   "name": "python3"
  },
  "language_info": {
   "codemirror_mode": {
    "name": "ipython",
    "version": 3
   },
   "file_extension": ".py",
   "mimetype": "text/x-python",
   "name": "python",
   "nbconvert_exporter": "python",
   "pygments_lexer": "ipython3",
   "version": "3.7.3"
  }
 },
 "nbformat": 4,
 "nbformat_minor": 2
}
